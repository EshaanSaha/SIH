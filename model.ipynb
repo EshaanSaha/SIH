{
 "cells": [
  {
   "cell_type": "code",
   "execution_count": 1,
   "metadata": {},
   "outputs": [
    {
     "name": "stdout",
     "output_type": "stream",
     "text": [
      "  Hospital Name  Beds Available  Ventilators Available  ICU Available  \\\n",
      "0    Hospital 1             496                     68             52   \n",
      "1    Hospital 2             254                     10             85   \n",
      "2    Hospital 3              45                     68             67   \n",
      "3    Hospital 4             218                     56             49   \n",
      "4    Hospital 5             488                     53             14   \n",
      "\n",
      "  Location Type Emergency Department Pediatric Care Specialized Department  \\\n",
      "0         Urban                  Yes             No               Oncology   \n",
      "1         Urban                  Yes             No            Orthopedics   \n",
      "2         Rural                   No            Yes              Neurology   \n",
      "3         Urban                  Yes            Yes                General   \n",
      "4         Urban                   No             No            Orthopedics   \n",
      "\n",
      "  Ambulance Services  Year of Establishment  \n",
      "0                Yes                   2012  \n",
      "1                 No                   1984  \n",
      "2                Yes                   1997  \n",
      "3                Yes                   1951  \n",
      "4                Yes                   1968  \n",
      "      Ventilators Available  ICU Available  Location Type  \\\n",
      "1839                     47             81              1   \n",
      "604                      55             59              0   \n",
      "1413                      7             89              0   \n",
      "25                       38             37              0   \n",
      "658                      91             36              0   \n",
      "\n",
      "      Emergency Department  Pediatric Care  Specialized Department  \\\n",
      "1839                     0               1                       4   \n",
      "604                      0               1                       3   \n",
      "1413                     1               0                       1   \n",
      "25                       0               0                       0   \n",
      "658                      0               0                       4   \n",
      "\n",
      "      Ambulance Services  Year of Establishment  \n",
      "1839                   0                   1995  \n",
      "604                    1                   1976  \n",
      "1413                   1                   2002  \n",
      "25                     1                   1955  \n",
      "658                    0                   1954  \n",
      "1839    True\n",
      "604     True\n",
      "1413    True\n",
      "25      True\n",
      "658     True\n",
      "Name: Beds Available, dtype: bool\n"
     ]
    }
   ],
   "source": [
    "import pandas as pd\n",
    "from sklearn.model_selection import train_test_split\n",
    "from sklearn.preprocessing import LabelEncoder\n",
    "\n",
    "# Load your dataset\n",
    "df = pd.read_csv('expanded_hospital_beds_facilities.csv')\n",
    "\n",
    "# Preview the data\n",
    "print(df.head())\n",
    "\n",
    "# Encode categorical features\n",
    "label_encoder = LabelEncoder()\n",
    "\n",
    "# Encode the 'Location Type' (Urban/Rural), 'Emergency Department', 'Pediatric Care',\n",
    "# 'Specialized Department', and 'Ambulance Services' as they are categorical\n",
    "df['Location Type'] = label_encoder.fit_transform(df['Location Type'])\n",
    "df['Emergency Department'] = label_encoder.fit_transform(df['Emergency Department'])\n",
    "df['Pediatric Care'] = label_encoder.fit_transform(df['Pediatric Care'])\n",
    "df['Specialized Department'] = label_encoder.fit_transform(df['Specialized Department'])\n",
    "df['Ambulance Services'] = label_encoder.fit_transform(df['Ambulance Services'])\n",
    "\n",
    "# Feature selection: Dropping the 'Hospital Name' as it's not relevant for the model\n",
    "X = df.drop(columns=[\"Beds Available\", \"Hospital Name\"])\n",
    "\n",
    "# Target: Let's assume we want to predict if more than 50 beds are available\n",
    "y = df[\"Beds Available\"] > 50  # This will return True if beds > 50, otherwise False\n",
    "\n",
    "# Split the data into training and testing sets\n",
    "X_train, X_test, y_train, y_test = train_test_split(X, y, test_size=0.3, random_state=42)\n",
    "\n",
    "# Preview the processed data\n",
    "print(X_train.head())\n",
    "print(y_train.head())\n"
   ]
  },
  {
   "cell_type": "code",
   "execution_count": 2,
   "metadata": {},
   "outputs": [
    {
     "name": "stdout",
     "output_type": "stream",
     "text": [
      "Model Accuracy: 94.44%\n",
      "Model saved as 'hospital_bed_availability_model.pkl'\n"
     ]
    }
   ],
   "source": [
    "from sklearn.ensemble import RandomForestClassifier\n",
    "from sklearn.metrics import accuracy_score\n",
    "import joblib\n",
    "\n",
    "# Load your preprocessed data (from the previous preprocessing step)\n",
    "# X_train, X_test, y_train, y_test are already defined\n",
    "\n",
    "# Train the Random Forest model\n",
    "rf_model = RandomForestClassifier(n_estimators=100, random_state=42)\n",
    "rf_model.fit(X_train, y_train)\n",
    "\n",
    "# Make predictions\n",
    "y_pred = rf_model.predict(X_test)\n",
    "\n",
    "# Evaluate the model\n",
    "accuracy = accuracy_score(y_test, y_pred)\n",
    "print(f\"Model Accuracy: {accuracy * 100:.2f}%\")\n",
    "\n",
    "# Save the model using joblib\n",
    "joblib.dump(rf_model, 'hospital_bed_availability_model.pkl')\n",
    "print(\"Model saved as 'hospital_bed_availability_model.pkl'\")\n"
   ]
  },
  {
   "cell_type": "code",
   "execution_count": 3,
   "metadata": {},
   "outputs": [
    {
     "name": "stdout",
     "output_type": "stream",
     "text": [
      "Fitting 5 folds for each of 108 candidates, totalling 540 fits\n",
      "Best Parameters: {'max_depth': None, 'min_samples_leaf': 1, 'min_samples_split': 2, 'n_estimators': 100}\n",
      "Model Accuracy with Best Parameters: 94.44%\n"
     ]
    },
    {
     "data": {
      "text/plain": [
       "['best_hospital_bed_availability_model.pkl']"
      ]
     },
     "execution_count": 3,
     "metadata": {},
     "output_type": "execute_result"
    }
   ],
   "source": [
    "from sklearn.model_selection import GridSearchCV\n",
    "\n",
    "# Define the parameter grid\n",
    "param_grid = {\n",
    "    'n_estimators': [50, 100, 200],\n",
    "    'max_depth': [None, 10, 20, 30],\n",
    "    'min_samples_split': [2, 5, 10],\n",
    "    'min_samples_leaf': [1, 2, 4]\n",
    "}\n",
    "\n",
    "# Create a Random Forest model\n",
    "rf = RandomForestClassifier(random_state=42)\n",
    "\n",
    "# Use GridSearchCV to find the best parameters\n",
    "grid_search = GridSearchCV(estimator=rf, param_grid=param_grid, cv=5, n_jobs=-1, verbose=2)\n",
    "grid_search.fit(X_train, y_train)\n",
    "\n",
    "# Get the best parameters and best model\n",
    "best_params = grid_search.best_params_\n",
    "best_rf_model = grid_search.best_estimator_\n",
    "\n",
    "print(f\"Best Parameters: {best_params}\")\n",
    "\n",
    "# Evaluate the model\n",
    "y_pred = best_rf_model.predict(X_test)\n",
    "accuracy = accuracy_score(y_test, y_pred)\n",
    "print(f\"Model Accuracy with Best Parameters: {accuracy * 100:.2f}%\")\n",
    "\n",
    "# Save the tuned model\n",
    "joblib.dump(best_rf_model, 'best_hospital_bed_availability_model.pkl')\n"
   ]
  },
  {
   "cell_type": "code",
   "execution_count": 4,
   "metadata": {},
   "outputs": [
    {
     "name": "stdout",
     "output_type": "stream",
     "text": [
      "Gradient Boosting Model Accuracy: 94.37%\n"
     ]
    },
    {
     "data": {
      "text/plain": [
       "['gb_hospital_bed_availability_model.pkl']"
      ]
     },
     "execution_count": 4,
     "metadata": {},
     "output_type": "execute_result"
    }
   ],
   "source": [
    "from sklearn.ensemble import GradientBoostingClassifier\n",
    "\n",
    "# Train a Gradient Boosting model\n",
    "gb_model = GradientBoostingClassifier()\n",
    "gb_model.fit(X_train, y_train)\n",
    "\n",
    "# Evaluate the model\n",
    "y_pred = gb_model.predict(X_test)\n",
    "accuracy = accuracy_score(y_test, y_pred)\n",
    "print(f\"Gradient Boosting Model Accuracy: {accuracy * 100:.2f}%\")\n",
    "\n",
    "# Save the model\n",
    "joblib.dump(gb_model, 'gb_hospital_bed_availability_model.pkl')\n"
   ]
  },
  {
   "cell_type": "code",
   "execution_count": 5,
   "metadata": {},
   "outputs": [
    {
     "name": "stdout",
     "output_type": "stream",
     "text": [
      "Cross-Validation Scores: [0.93222222 0.93222222 0.93333333 0.93222222 0.93333333]\n",
      "Mean CV Score: 93.27%\n"
     ]
    }
   ],
   "source": [
    "from sklearn.model_selection import cross_val_score\n",
    "\n",
    "# Cross-validation scores\n",
    "cv_scores = cross_val_score(rf, X, y, cv=5)\n",
    "print(f\"Cross-Validation Scores: {cv_scores}\")\n",
    "print(f\"Mean CV Score: {cv_scores.mean() * 100:.2f}%\")\n"
   ]
  },
  {
   "cell_type": "code",
   "execution_count": null,
   "metadata": {},
   "outputs": [],
   "source": []
  }
 ],
 "metadata": {
  "kernelspec": {
   "display_name": "Python 3",
   "language": "python",
   "name": "python3"
  },
  "language_info": {
   "codemirror_mode": {
    "name": "ipython",
    "version": 3
   },
   "file_extension": ".py",
   "mimetype": "text/x-python",
   "name": "python",
   "nbconvert_exporter": "python",
   "pygments_lexer": "ipython3",
   "version": "3.11.4"
  }
 },
 "nbformat": 4,
 "nbformat_minor": 2
}
